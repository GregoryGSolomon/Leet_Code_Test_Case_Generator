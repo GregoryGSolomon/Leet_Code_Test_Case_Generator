{
 "cells": [
  {
   "cell_type": "markdown",
   "metadata": {},
   "source": [
    "This problem has a VERY strict time limit and will punish you for poorly scaling code. I had to rewrite mine twice.\n",
    "\n",
    "Testcase 548 for example has 60,000 values in queries! and a limit of 1,000,000,000! It is in the GitHub if you really want it.\n",
    "\n",
    "Here is python code for generating a long test case:\n",
    "\n",
    "NOTE! Because the output is so long, you probably need to increase your output in your preferred IDE. I used a Jupyter Notebook in VS code which has the setting: notebook.output.textLineLimit.1000000\n",
    "\n",
    "#### These use a limit of 1000000000"
   ]
  },
  {
   "cell_type": "code",
   "execution_count": null,
   "metadata": {},
   "outputs": [],
   "source": [
    "#notebook.output.textLineLimit.1000000\n",
    "\n",
    "#Limit = 1000000000\n",
    "\n",
    "queries_example = []\n",
    "\n",
    "for i in range(60000):\n",
    "    queries_example.append([i,i+1])\n",
    "    \n",
    "print(queries_example)"
   ]
  },
  {
   "cell_type": "markdown",
   "metadata": {},
   "source": [
    "#### With Random Values"
   ]
  },
  {
   "cell_type": "code",
   "execution_count": null,
   "metadata": {},
   "outputs": [],
   "source": [
    "#Limit = 1000000000\n",
    "\n",
    "import random\n",
    "\n",
    "queries_example = []\n",
    "\n",
    "for i in range(60000):\n",
    "    ball_number_rand = random.randint(0, 1000000000)\n",
    "    color_rand = random.randint(0, 1000000000)\n",
    "    queries_example.append([ball_number_rand, color_rand])\n",
    "    \n",
    "print(queries_example)"
   ]
  }
 ],
 "metadata": {
  "kernelspec": {
   "display_name": "base",
   "language": "python",
   "name": "python3"
  },
  "language_info": {
   "codemirror_mode": {
    "name": "ipython",
    "version": 3
   },
   "file_extension": ".py",
   "mimetype": "text/x-python",
   "name": "python",
   "nbconvert_exporter": "python",
   "pygments_lexer": "ipython3",
   "version": "3.12.4"
  }
 },
 "nbformat": 4,
 "nbformat_minor": 2
}
